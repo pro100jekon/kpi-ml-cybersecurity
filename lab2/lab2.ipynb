{
 "cells": [
  {
   "metadata": {},
   "cell_type": "markdown",
   "source": "# Lab 2: Дерево рішень та ліс дерев рішень",
   "id": "6860152012b09180"
  },
  {
   "metadata": {
    "collapsed": true,
    "ExecuteTime": {
     "end_time": "2024-12-09T22:11:13.454046Z",
     "start_time": "2024-12-09T22:11:13.450705Z"
    }
   },
   "cell_type": "code",
   "outputs": [],
   "execution_count": 113,
   "source": [
    "import pandas as pd\n",
    "from sklearn.metrics import confusion_matrix, classification_report, accuracy_score\n",
    "from sklearn.model_selection import train_test_split\n",
    "from sklearn.preprocessing import LabelEncoder"
   ],
   "id": "initial_id"
  },
  {
   "metadata": {},
   "cell_type": "markdown",
   "source": "## Dataset #1: Emails",
   "id": "a7128349f9d4dd2f"
  },
  {
   "metadata": {
    "ExecuteTime": {
     "end_time": "2024-12-09T22:28:56.579978Z",
     "start_time": "2024-12-09T22:11:14.040956Z"
    }
   },
   "cell_type": "code",
   "source": [
    "import re\n",
    "from nltk.corpus import stopwords\n",
    "import string\n",
    "\n",
    "df = pd.DataFrame(pd.read_csv('Phishing_Email.csv')) # https://www.kaggle.com/datasets/subhajournal/phishingemails\n",
    "df.dropna(inplace=True)\n",
    "df.drop(columns=df.columns[0], inplace=True)\n",
    "def process_text(transformer: str) -> str:\n",
    "    transformer = transformer.lower()\n",
    "    transformer = re.sub(r\"https*\\S+\", \" \", transformer)\n",
    "    transformer = re.sub(r\"^([a-zA-Z0-9_\\-\\.]+)@([a-zA-Z0-9_\\-]+)(\\.[a-zA-Z]{2,5}){1,2}$\", \" \", transformer)\n",
    "    transformer = re.sub(\"[%s]\" % re.escape(string.punctuation), \" \", transformer)\n",
    "    transformer = re.sub(r\"\\s{2,}\", \" \", transformer)\n",
    "    \n",
    "    result = ' '.join([word for word in transformer.split(' ') if word not in stopwords.words(\"english\")])\n",
    "    return result.strip()\n",
    "\n",
    "x = df.drop('Email Type', axis=1)['Email Text'].apply(process_text)\n",
    "y = LabelEncoder().fit_transform(df['Email Type'])\n",
    "\n",
    "\n",
    "x_train_email, x_test_email, y_train_email, y_test_email = train_test_split(x, y, test_size=0.2, random_state=0)"
   ],
   "id": "3bb931e9cb0d6b31",
   "outputs": [],
   "execution_count": 117
  },
  {
   "metadata": {},
   "cell_type": "markdown",
   "source": "## Векторизація тексту за TF-IDF та Count Vectorizer",
   "id": "33619a3f196d0528"
  },
  {
   "metadata": {
    "ExecuteTime": {
     "end_time": "2024-12-09T22:29:13.738853Z",
     "start_time": "2024-12-09T22:28:56.582989Z"
    }
   },
   "cell_type": "code",
   "source": [
    "from sklearn.feature_extraction.text import CountVectorizer\n",
    "from sklearn.feature_extraction.text import TfidfVectorizer\n",
    "\n",
    "cv = CountVectorizer(max_features=1000, ngram_range=(1, 2))\n",
    "tfidf = TfidfVectorizer(max_features=1000, ngram_range=(1, 2))\n",
    "\n",
    "x_train_vectorised_tfidf = tfidf.fit_transform(x_train_email)\n",
    "x_test_vectorised_tfidf = tfidf.transform(x_test_email)\n",
    "x_train_vectorised_cv = cv.fit_transform(x_train_email)\n",
    "x_test_vectorised_cv = cv.transform(x_test_email)"
   ],
   "id": "480ad345dd86ac67",
   "outputs": [],
   "execution_count": 118
  },
  {
   "metadata": {},
   "cell_type": "markdown",
   "source": "## Decision Tree and Random Forest",
   "id": "a23d36aa15d4f324"
  },
  {
   "metadata": {
    "ExecuteTime": {
     "end_time": "2024-12-09T22:30:21.397666Z",
     "start_time": "2024-12-09T22:30:21.324417Z"
    }
   },
   "cell_type": "code",
   "source": [
    "from sklearn.tree import DecisionTreeClassifier\n",
    "\n",
    "decision_tree = DecisionTreeClassifier(max_depth=5, random_state=0, criterion='gini')\n",
    "decision_tree.fit(x_train_vectorised_cv, y_train_email)\n",
    "\n",
    "y_pred = decision_tree.predict(x_test_vectorised_cv)\n",
    "\n",
    "print(f'Matrix:\\n{confusion_matrix(y_test_email, y_pred)}\\nClassification Report:\\n{classification_report(y_test_email, y_pred)}\\nAccuracy: {accuracy_score(y_test_email, y_pred)}')\n",
    "\n",
    "from sklearn.ensemble import RandomForestClassifier\n",
    "\n",
    "random_forest = RandomForestClassifier(max_depth=5, random_state=0, criterion='gini', n_estimators=100)\n",
    "random_forest.fit(x_train_vectorised_tfidf, y_train_email)\n",
    "\n",
    "y_pred = random_forest.predict(x_test_vectorised_tfidf)\n",
    "\n",
    "print(f'Matrix:\\n{confusion_matrix(y_test_email, y_pred)}\\nClassification Report:\\n{classification_report(y_test_email, y_pred)}\\nAccuracy: {accuracy_score(y_test_email, y_pred)}')"
   ],
   "id": "c84d8fdfccbc81af",
   "outputs": [
    {
     "ename": "ValueError",
     "evalue": "Number of labels=1356 does not match number of samples=14907",
     "output_type": "error",
     "traceback": [
      "\u001B[1;31m---------------------------------------------------------------------------\u001B[0m",
      "\u001B[1;31mValueError\u001B[0m                                Traceback (most recent call last)",
      "Cell \u001B[1;32mIn[124], line 4\u001B[0m\n\u001B[0;32m      1\u001B[0m \u001B[38;5;28;01mfrom\u001B[39;00m \u001B[38;5;21;01msklearn\u001B[39;00m\u001B[38;5;21;01m.\u001B[39;00m\u001B[38;5;21;01mtree\u001B[39;00m \u001B[38;5;28;01mimport\u001B[39;00m DecisionTreeClassifier\n\u001B[0;32m      3\u001B[0m decision_tree \u001B[38;5;241m=\u001B[39m DecisionTreeClassifier(max_depth\u001B[38;5;241m=\u001B[39m\u001B[38;5;241m5\u001B[39m, random_state\u001B[38;5;241m=\u001B[39m\u001B[38;5;241m0\u001B[39m, criterion\u001B[38;5;241m=\u001B[39m\u001B[38;5;124m'\u001B[39m\u001B[38;5;124mgini\u001B[39m\u001B[38;5;124m'\u001B[39m)\n\u001B[1;32m----> 4\u001B[0m \u001B[43mdecision_tree\u001B[49m\u001B[38;5;241;43m.\u001B[39;49m\u001B[43mfit\u001B[49m\u001B[43m(\u001B[49m\u001B[43mx_train_vectorised_cv\u001B[49m\u001B[43m,\u001B[49m\u001B[43m \u001B[49m\u001B[43my_train\u001B[49m\u001B[43m)\u001B[49m\n\u001B[0;32m      6\u001B[0m y_pred \u001B[38;5;241m=\u001B[39m decision_tree\u001B[38;5;241m.\u001B[39mpredict(x_test_vectorised_cv)\n\u001B[0;32m      8\u001B[0m \u001B[38;5;28mprint\u001B[39m(\u001B[38;5;124mf\u001B[39m\u001B[38;5;124m'\u001B[39m\u001B[38;5;124mMatrix:\u001B[39m\u001B[38;5;130;01m\\n\u001B[39;00m\u001B[38;5;132;01m{\u001B[39;00mconfusion_matrix(y_test,\u001B[38;5;250m \u001B[39my_pred)\u001B[38;5;132;01m}\u001B[39;00m\u001B[38;5;130;01m\\n\u001B[39;00m\u001B[38;5;124mClassification Report:\u001B[39m\u001B[38;5;130;01m\\n\u001B[39;00m\u001B[38;5;132;01m{\u001B[39;00mclassification_report(y_test,\u001B[38;5;250m \u001B[39my_pred)\u001B[38;5;132;01m}\u001B[39;00m\u001B[38;5;130;01m\\n\u001B[39;00m\u001B[38;5;124mAccuracy: \u001B[39m\u001B[38;5;132;01m{\u001B[39;00maccuracy_score(y_test,\u001B[38;5;250m \u001B[39my_pred)\u001B[38;5;132;01m}\u001B[39;00m\u001B[38;5;124m'\u001B[39m)\n",
      "File \u001B[1;32m~\\AppData\\Roaming\\Python\\Python312\\site-packages\\sklearn\\base.py:1473\u001B[0m, in \u001B[0;36m_fit_context.<locals>.decorator.<locals>.wrapper\u001B[1;34m(estimator, *args, **kwargs)\u001B[0m\n\u001B[0;32m   1466\u001B[0m     estimator\u001B[38;5;241m.\u001B[39m_validate_params()\n\u001B[0;32m   1468\u001B[0m \u001B[38;5;28;01mwith\u001B[39;00m config_context(\n\u001B[0;32m   1469\u001B[0m     skip_parameter_validation\u001B[38;5;241m=\u001B[39m(\n\u001B[0;32m   1470\u001B[0m         prefer_skip_nested_validation \u001B[38;5;129;01mor\u001B[39;00m global_skip_validation\n\u001B[0;32m   1471\u001B[0m     )\n\u001B[0;32m   1472\u001B[0m ):\n\u001B[1;32m-> 1473\u001B[0m     \u001B[38;5;28;01mreturn\u001B[39;00m \u001B[43mfit_method\u001B[49m\u001B[43m(\u001B[49m\u001B[43mestimator\u001B[49m\u001B[43m,\u001B[49m\u001B[43m \u001B[49m\u001B[38;5;241;43m*\u001B[39;49m\u001B[43margs\u001B[49m\u001B[43m,\u001B[49m\u001B[43m \u001B[49m\u001B[38;5;241;43m*\u001B[39;49m\u001B[38;5;241;43m*\u001B[39;49m\u001B[43mkwargs\u001B[49m\u001B[43m)\u001B[49m\n",
      "File \u001B[1;32m~\\AppData\\Roaming\\Python\\Python312\\site-packages\\sklearn\\tree\\_classes.py:1009\u001B[0m, in \u001B[0;36mDecisionTreeClassifier.fit\u001B[1;34m(self, X, y, sample_weight, check_input)\u001B[0m\n\u001B[0;32m    978\u001B[0m \u001B[38;5;129m@_fit_context\u001B[39m(prefer_skip_nested_validation\u001B[38;5;241m=\u001B[39m\u001B[38;5;28;01mTrue\u001B[39;00m)\n\u001B[0;32m    979\u001B[0m \u001B[38;5;28;01mdef\u001B[39;00m \u001B[38;5;21mfit\u001B[39m(\u001B[38;5;28mself\u001B[39m, X, y, sample_weight\u001B[38;5;241m=\u001B[39m\u001B[38;5;28;01mNone\u001B[39;00m, check_input\u001B[38;5;241m=\u001B[39m\u001B[38;5;28;01mTrue\u001B[39;00m):\n\u001B[0;32m    980\u001B[0m \u001B[38;5;250m    \u001B[39m\u001B[38;5;124;03m\"\"\"Build a decision tree classifier from the training set (X, y).\u001B[39;00m\n\u001B[0;32m    981\u001B[0m \n\u001B[0;32m    982\u001B[0m \u001B[38;5;124;03m    Parameters\u001B[39;00m\n\u001B[1;32m   (...)\u001B[0m\n\u001B[0;32m   1006\u001B[0m \u001B[38;5;124;03m        Fitted estimator.\u001B[39;00m\n\u001B[0;32m   1007\u001B[0m \u001B[38;5;124;03m    \"\"\"\u001B[39;00m\n\u001B[1;32m-> 1009\u001B[0m     \u001B[38;5;28;43msuper\u001B[39;49m\u001B[43m(\u001B[49m\u001B[43m)\u001B[49m\u001B[38;5;241;43m.\u001B[39;49m\u001B[43m_fit\u001B[49m\u001B[43m(\u001B[49m\n\u001B[0;32m   1010\u001B[0m \u001B[43m        \u001B[49m\u001B[43mX\u001B[49m\u001B[43m,\u001B[49m\n\u001B[0;32m   1011\u001B[0m \u001B[43m        \u001B[49m\u001B[43my\u001B[49m\u001B[43m,\u001B[49m\n\u001B[0;32m   1012\u001B[0m \u001B[43m        \u001B[49m\u001B[43msample_weight\u001B[49m\u001B[38;5;241;43m=\u001B[39;49m\u001B[43msample_weight\u001B[49m\u001B[43m,\u001B[49m\n\u001B[0;32m   1013\u001B[0m \u001B[43m        \u001B[49m\u001B[43mcheck_input\u001B[49m\u001B[38;5;241;43m=\u001B[39;49m\u001B[43mcheck_input\u001B[49m\u001B[43m,\u001B[49m\n\u001B[0;32m   1014\u001B[0m \u001B[43m    \u001B[49m\u001B[43m)\u001B[49m\n\u001B[0;32m   1015\u001B[0m     \u001B[38;5;28;01mreturn\u001B[39;00m \u001B[38;5;28mself\u001B[39m\n",
      "File \u001B[1;32m~\\AppData\\Roaming\\Python\\Python312\\site-packages\\sklearn\\tree\\_classes.py:355\u001B[0m, in \u001B[0;36mBaseDecisionTree._fit\u001B[1;34m(self, X, y, sample_weight, check_input, missing_values_in_feature_mask)\u001B[0m\n\u001B[0;32m    352\u001B[0m max_leaf_nodes \u001B[38;5;241m=\u001B[39m \u001B[38;5;241m-\u001B[39m\u001B[38;5;241m1\u001B[39m \u001B[38;5;28;01mif\u001B[39;00m \u001B[38;5;28mself\u001B[39m\u001B[38;5;241m.\u001B[39mmax_leaf_nodes \u001B[38;5;129;01mis\u001B[39;00m \u001B[38;5;28;01mNone\u001B[39;00m \u001B[38;5;28;01melse\u001B[39;00m \u001B[38;5;28mself\u001B[39m\u001B[38;5;241m.\u001B[39mmax_leaf_nodes\n\u001B[0;32m    354\u001B[0m \u001B[38;5;28;01mif\u001B[39;00m \u001B[38;5;28mlen\u001B[39m(y) \u001B[38;5;241m!=\u001B[39m n_samples:\n\u001B[1;32m--> 355\u001B[0m     \u001B[38;5;28;01mraise\u001B[39;00m \u001B[38;5;167;01mValueError\u001B[39;00m(\n\u001B[0;32m    356\u001B[0m         \u001B[38;5;124m\"\u001B[39m\u001B[38;5;124mNumber of labels=\u001B[39m\u001B[38;5;132;01m%d\u001B[39;00m\u001B[38;5;124m does not match number of samples=\u001B[39m\u001B[38;5;132;01m%d\u001B[39;00m\u001B[38;5;124m\"\u001B[39m\n\u001B[0;32m    357\u001B[0m         \u001B[38;5;241m%\u001B[39m (\u001B[38;5;28mlen\u001B[39m(y), n_samples)\n\u001B[0;32m    358\u001B[0m     )\n\u001B[0;32m    360\u001B[0m \u001B[38;5;28;01mif\u001B[39;00m sample_weight \u001B[38;5;129;01mis\u001B[39;00m \u001B[38;5;129;01mnot\u001B[39;00m \u001B[38;5;28;01mNone\u001B[39;00m:\n\u001B[0;32m    361\u001B[0m     sample_weight \u001B[38;5;241m=\u001B[39m _check_sample_weight(sample_weight, X, DOUBLE)\n",
      "\u001B[1;31mValueError\u001B[0m: Number of labels=1356 does not match number of samples=14907"
     ]
    }
   ],
   "execution_count": 124
  },
  {
   "metadata": {},
   "cell_type": "markdown",
   "source": "## Dataset #2: Access behavior anomaly",
   "id": "3ba91c37b47a98ae"
  },
  {
   "metadata": {
    "ExecuteTime": {
     "end_time": "2024-12-09T22:29:14.989241Z",
     "start_time": "2024-12-09T22:29:14.972635Z"
    }
   },
   "cell_type": "code",
   "source": [
    "from sklearn.preprocessing import StandardScaler\n",
    "\n",
    "df_3 = pd.read_csv('supervised_dataset.csv') # https://www.kaggle.com/datasets/tangodelta/api-access-behaviour-anomaly-dataset?select=supervised_dataset.csv\n",
    "\n",
    "df_3.drop(df_3.columns[0], inplace=True, axis=1)\n",
    "df_3.drop('_id', inplace=True, axis=1)\n",
    "df_3.drop('source', inplace=True, axis=1)\n",
    "df_3.dropna(inplace=True)\n",
    "\n",
    "le = LabelEncoder()\n",
    "df_3['ip_type'] = le.fit_transform(df_3['ip_type'])\n",
    "df_3['classification'] = le.fit_transform(df_3['classification'])\n",
    "x = df_3.drop('classification', axis=1)\n",
    "y = df_3['classification']\n",
    "\n",
    "x_train, x_test, y_train, y_test = train_test_split(x, y, test_size=0.2, random_state=0)\n",
    "\n",
    "scaler = StandardScaler()\n",
    "scaler.fit(x_train)\n",
    "\n",
    "scaled_x_train = scaler.transform(x_train)\n",
    "scaled_x_test = scaler.transform(x_test)"
   ],
   "id": "2443c42c122f9925",
   "outputs": [],
   "execution_count": 121
  },
  {
   "metadata": {},
   "cell_type": "markdown",
   "source": "## Decision Tree and Random Forest",
   "id": "dede81f1d097daf2"
  },
  {
   "metadata": {
    "ExecuteTime": {
     "end_time": "2024-12-09T22:29:15.441715Z",
     "start_time": "2024-12-09T22:29:15.315456Z"
    }
   },
   "cell_type": "code",
   "source": [
    "decision_tree = DecisionTreeClassifier()\n",
    "random_forest = RandomForestClassifier()\n",
    "\n",
    "decision_tree.fit(scaled_x_train, y_train)\n",
    "y_pred = decision_tree.predict(scaled_x_test)\n",
    "\n",
    "print(f'Matrix:\\n{confusion_matrix(y_test, y_pred)}\\nClassification Report:\\n{classification_report(y_test, y_pred)}\\nAccuracy: {accuracy_score(y_test, y_pred)}')\n",
    "\n",
    "random_forest.fit(scaled_x_train, y_train)\n",
    "y_pred = random_forest.predict(scaled_x_test)\n",
    "\n",
    "print(f'Matrix:\\n{confusion_matrix(y_test, y_pred)}\\nClassification Report:\\n{classification_report(y_test, y_pred)}\\nAccuracy: {accuracy_score(y_test, y_pred)}')"
   ],
   "id": "6573ab0f47b0bcc0",
   "outputs": [
    {
     "name": "stdout",
     "output_type": "stream",
     "text": [
      "Matrix:\n",
      "[[218   0]\n",
      " [  0 121]]\n",
      "Classification Report:\n",
      "              precision    recall  f1-score   support\n",
      "\n",
      "           0       1.00      1.00      1.00       218\n",
      "           1       1.00      1.00      1.00       121\n",
      "\n",
      "    accuracy                           1.00       339\n",
      "   macro avg       1.00      1.00      1.00       339\n",
      "weighted avg       1.00      1.00      1.00       339\n",
      "\n",
      "Accuracy: 1.0\n",
      "Matrix:\n",
      "[[218   0]\n",
      " [  0 121]]\n",
      "Classification Report:\n",
      "              precision    recall  f1-score   support\n",
      "\n",
      "           0       1.00      1.00      1.00       218\n",
      "           1       1.00      1.00      1.00       121\n",
      "\n",
      "    accuracy                           1.00       339\n",
      "   macro avg       1.00      1.00      1.00       339\n",
      "weighted avg       1.00      1.00      1.00       339\n",
      "\n",
      "Accuracy: 1.0\n"
     ]
    }
   ],
   "execution_count": 123
  }
 ],
 "metadata": {
  "kernelspec": {
   "display_name": "Python 3",
   "language": "python",
   "name": "python3"
  },
  "language_info": {
   "codemirror_mode": {
    "name": "ipython",
    "version": 2
   },
   "file_extension": ".py",
   "mimetype": "text/x-python",
   "name": "python",
   "nbconvert_exporter": "python",
   "pygments_lexer": "ipython2",
   "version": "2.7.6"
  }
 },
 "nbformat": 4,
 "nbformat_minor": 5
}
