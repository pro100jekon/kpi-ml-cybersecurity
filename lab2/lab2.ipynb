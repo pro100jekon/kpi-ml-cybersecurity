{
 "cells": [
  {
   "metadata": {},
   "cell_type": "markdown",
   "source": "# Lab 2: Дерево рішень та ліс дерев рішень",
   "id": "6860152012b09180"
  },
  {
   "metadata": {
    "collapsed": true,
    "ExecuteTime": {
     "end_time": "2024-12-10T06:44:05.296103Z",
     "start_time": "2024-12-10T06:44:04.340174Z"
    }
   },
   "cell_type": "code",
   "source": [
    "import pandas as pd\n",
    "from sklearn.metrics import confusion_matrix, classification_report, accuracy_score\n",
    "from sklearn.model_selection import train_test_split\n",
    "from sklearn.preprocessing import LabelEncoder"
   ],
   "id": "initial_id",
   "outputs": [],
   "execution_count": 1
  },
  {
   "metadata": {},
   "cell_type": "markdown",
   "source": "## Dataset #1: Emails",
   "id": "a7128349f9d4dd2f"
  },
  {
   "metadata": {
    "ExecuteTime": {
     "end_time": "2024-12-10T07:01:11.242658Z",
     "start_time": "2024-12-10T06:44:05.302109Z"
    }
   },
   "cell_type": "code",
   "source": [
    "import re\n",
    "from nltk.corpus import stopwords\n",
    "import string\n",
    "\n",
    "df = pd.DataFrame(pd.read_csv('Phishing_Email.csv')) # https://www.kaggle.com/datasets/subhajournal/phishingemails\n",
    "df.dropna(inplace=True)\n",
    "df.drop(columns=df.columns[0], inplace=True)\n",
    "def process_text(transformer: str) -> str:\n",
    "    transformer = transformer.lower()\n",
    "    transformer = re.sub(r\"https*\\S+\", \" \", transformer)\n",
    "    transformer = re.sub(r\"^([a-zA-Z0-9_\\-\\.]+)@([a-zA-Z0-9_\\-]+)(\\.[a-zA-Z]{2,5}){1,2}$\", \" \", transformer)\n",
    "    transformer = re.sub(\"[%s]\" % re.escape(string.punctuation), \" \", transformer)\n",
    "    transformer = re.sub(r\"\\s{2,}\", \" \", transformer)\n",
    "    \n",
    "    result = ' '.join([word for word in transformer.split(' ') if word not in stopwords.words(\"english\")])\n",
    "    return result.strip()\n",
    "\n",
    "x = df.drop('Email Type', axis=1)['Email Text'].apply(process_text)\n",
    "y = LabelEncoder().fit_transform(df['Email Type'])\n",
    "\n",
    "\n",
    "x_train_email, x_test_email, y_train_email, y_test_email = train_test_split(x, y, test_size=0.2, random_state=0)"
   ],
   "id": "3bb931e9cb0d6b31",
   "outputs": [],
   "execution_count": 2
  },
  {
   "metadata": {},
   "cell_type": "markdown",
   "source": "## Векторизація тексту за TF-IDF та Count Vectorizer",
   "id": "33619a3f196d0528"
  },
  {
   "metadata": {
    "ExecuteTime": {
     "end_time": "2024-12-10T07:01:28.724390Z",
     "start_time": "2024-12-10T07:01:11.559995Z"
    }
   },
   "cell_type": "code",
   "source": [
    "from sklearn.feature_extraction.text import CountVectorizer\n",
    "from sklearn.feature_extraction.text import TfidfVectorizer\n",
    "\n",
    "cv = CountVectorizer(max_features=1000, ngram_range=(1, 2))\n",
    "tfidf = TfidfVectorizer(max_features=1000, ngram_range=(1, 2))\n",
    "\n",
    "x_train_vectorised_tfidf = tfidf.fit_transform(x_train_email)\n",
    "x_test_vectorised_tfidf = tfidf.transform(x_test_email)\n",
    "x_train_vectorised_cv = cv.fit_transform(x_train_email)\n",
    "x_test_vectorised_cv = cv.transform(x_test_email)"
   ],
   "id": "480ad345dd86ac67",
   "outputs": [],
   "execution_count": 3
  },
  {
   "metadata": {},
   "cell_type": "markdown",
   "source": "## Decision Tree and Random Forest",
   "id": "a23d36aa15d4f324"
  },
  {
   "metadata": {
    "ExecuteTime": {
     "end_time": "2024-12-10T07:01:30.217870Z",
     "start_time": "2024-12-10T07:01:28.733386Z"
    }
   },
   "cell_type": "code",
   "source": [
    "from sklearn.tree import DecisionTreeClassifier\n",
    "\n",
    "decision_tree = DecisionTreeClassifier(max_depth=5, random_state=0, criterion='gini')\n",
    "decision_tree.fit(x_train_vectorised_cv, y_train_email)\n",
    "\n",
    "y_pred = decision_tree.predict(x_test_vectorised_cv)\n",
    "\n",
    "print(f'Matrix:\\n{confusion_matrix(y_test_email, y_pred)}\\nClassification Report:\\n{classification_report(y_test_email, y_pred)}\\nAccuracy: {accuracy_score(y_test_email, y_pred)}')\n",
    "\n",
    "from sklearn.ensemble import RandomForestClassifier\n",
    "\n",
    "random_forest = RandomForestClassifier(max_depth=5, random_state=0, criterion='gini', n_estimators=100)\n",
    "random_forest.fit(x_train_vectorised_tfidf, y_train_email)\n",
    "\n",
    "y_pred = random_forest.predict(x_test_vectorised_tfidf)\n",
    "\n",
    "print(f'Matrix:\\n{confusion_matrix(y_test_email, y_pred)}\\nClassification Report:\\n{classification_report(y_test_email, y_pred)}\\nAccuracy: {accuracy_score(y_test_email, y_pred)}')"
   ],
   "id": "c84d8fdfccbc81af",
   "outputs": [
    {
     "name": "stdout",
     "output_type": "stream",
     "text": [
      "Matrix:\n",
      "[[ 645  812]\n",
      " [  73 2197]]\n",
      "Classification Report:\n",
      "              precision    recall  f1-score   support\n",
      "\n",
      "           0       0.90      0.44      0.59      1457\n",
      "           1       0.73      0.97      0.83      2270\n",
      "\n",
      "    accuracy                           0.76      3727\n",
      "   macro avg       0.81      0.71      0.71      3727\n",
      "weighted avg       0.80      0.76      0.74      3727\n",
      "\n",
      "Accuracy: 0.7625436007512745\n",
      "Matrix:\n",
      "[[ 786  671]\n",
      " [  19 2251]]\n",
      "Classification Report:\n",
      "              precision    recall  f1-score   support\n",
      "\n",
      "           0       0.98      0.54      0.69      1457\n",
      "           1       0.77      0.99      0.87      2270\n",
      "\n",
      "    accuracy                           0.81      3727\n",
      "   macro avg       0.87      0.77      0.78      3727\n",
      "weighted avg       0.85      0.81      0.80      3727\n",
      "\n",
      "Accuracy: 0.8148645022806547\n"
     ]
    }
   ],
   "execution_count": 4
  },
  {
   "metadata": {},
   "cell_type": "markdown",
   "source": "## Dataset #2: Access behavior anomaly",
   "id": "3ba91c37b47a98ae"
  },
  {
   "metadata": {
    "ExecuteTime": {
     "end_time": "2024-12-10T07:01:30.241851Z",
     "start_time": "2024-12-10T07:01:30.226855Z"
    }
   },
   "cell_type": "code",
   "source": [
    "from sklearn.preprocessing import StandardScaler\n",
    "\n",
    "df_3 = pd.read_csv('supervised_dataset.csv') # https://www.kaggle.com/datasets/tangodelta/api-access-behaviour-anomaly-dataset?select=supervised_dataset.csv\n",
    "\n",
    "df_3.drop(df_3.columns[0], inplace=True, axis=1)\n",
    "df_3.drop('_id', inplace=True, axis=1)\n",
    "df_3.drop('source', inplace=True, axis=1)\n",
    "df_3.dropna(inplace=True)\n",
    "\n",
    "le = LabelEncoder()\n",
    "df_3['ip_type'] = le.fit_transform(df_3['ip_type'])\n",
    "df_3['classification'] = le.fit_transform(df_3['classification'])\n",
    "x = df_3.drop('classification', axis=1)\n",
    "y = df_3['classification']\n",
    "\n",
    "x_train, x_test, y_train, y_test = train_test_split(x, y, test_size=0.2, random_state=0)\n",
    "\n",
    "scaler = StandardScaler()\n",
    "scaler.fit(x_train)\n",
    "\n",
    "scaled_x_train = scaler.transform(x_train)\n",
    "scaled_x_test = scaler.transform(x_test)"
   ],
   "id": "2443c42c122f9925",
   "outputs": [],
   "execution_count": 5
  },
  {
   "metadata": {},
   "cell_type": "markdown",
   "source": "## Decision Tree and Random Forest",
   "id": "dede81f1d097daf2"
  },
  {
   "metadata": {
    "ExecuteTime": {
     "end_time": "2024-12-10T07:01:30.388844Z",
     "start_time": "2024-12-10T07:01:30.257870Z"
    }
   },
   "cell_type": "code",
   "source": [
    "decision_tree = DecisionTreeClassifier()\n",
    "random_forest = RandomForestClassifier()\n",
    "\n",
    "decision_tree.fit(scaled_x_train, y_train)\n",
    "y_pred = decision_tree.predict(scaled_x_test)\n",
    "\n",
    "print(f'Matrix:\\n{confusion_matrix(y_test, y_pred)}\\nClassification Report:\\n{classification_report(y_test, y_pred)}\\nAccuracy: {accuracy_score(y_test, y_pred)}')\n",
    "\n",
    "random_forest.fit(scaled_x_train, y_train)\n",
    "y_pred = random_forest.predict(scaled_x_test)\n",
    "\n",
    "print(f'Matrix:\\n{confusion_matrix(y_test, y_pred)}\\nClassification Report:\\n{classification_report(y_test, y_pred)}\\nAccuracy: {accuracy_score(y_test, y_pred)}')"
   ],
   "id": "6573ab0f47b0bcc0",
   "outputs": [
    {
     "name": "stdout",
     "output_type": "stream",
     "text": [
      "Matrix:\n",
      "[[218   0]\n",
      " [  0 121]]\n",
      "Classification Report:\n",
      "              precision    recall  f1-score   support\n",
      "\n",
      "           0       1.00      1.00      1.00       218\n",
      "           1       1.00      1.00      1.00       121\n",
      "\n",
      "    accuracy                           1.00       339\n",
      "   macro avg       1.00      1.00      1.00       339\n",
      "weighted avg       1.00      1.00      1.00       339\n",
      "\n",
      "Accuracy: 1.0\n",
      "Matrix:\n",
      "[[218   0]\n",
      " [  0 121]]\n",
      "Classification Report:\n",
      "              precision    recall  f1-score   support\n",
      "\n",
      "           0       1.00      1.00      1.00       218\n",
      "           1       1.00      1.00      1.00       121\n",
      "\n",
      "    accuracy                           1.00       339\n",
      "   macro avg       1.00      1.00      1.00       339\n",
      "weighted avg       1.00      1.00      1.00       339\n",
      "\n",
      "Accuracy: 1.0\n"
     ]
    }
   ],
   "execution_count": 6
  },
  {
   "metadata": {},
   "cell_type": "markdown",
   "source": "## Dataset #3: URL Phishing",
   "id": "95feda367a9aca68"
  },
  {
   "metadata": {
    "ExecuteTime": {
     "end_time": "2024-12-10T07:01:30.407695Z",
     "start_time": "2024-12-10T07:01:30.405699Z"
    }
   },
   "cell_type": "code",
   "source": "",
   "id": "d186f67f15478d09",
   "outputs": [],
   "execution_count": null
  }
 ],
 "metadata": {
  "kernelspec": {
   "display_name": "Python 3",
   "language": "python",
   "name": "python3"
  },
  "language_info": {
   "codemirror_mode": {
    "name": "ipython",
    "version": 2
   },
   "file_extension": ".py",
   "mimetype": "text/x-python",
   "name": "python",
   "nbconvert_exporter": "python",
   "pygments_lexer": "ipython2",
   "version": "2.7.6"
  }
 },
 "nbformat": 4,
 "nbformat_minor": 5
}
