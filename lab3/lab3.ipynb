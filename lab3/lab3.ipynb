{
 "cells": [
  {
   "metadata": {
    "ExecuteTime": {
     "end_time": "2024-12-10T07:39:30.649108Z",
     "start_time": "2024-12-10T07:39:28.770177Z"
    }
   },
   "cell_type": "code",
   "source": [
    "import pandas as pd\n",
    "from sklearn.metrics import confusion_matrix, classification_report, accuracy_score\n",
    "from sklearn.model_selection import train_test_split\n",
    "from sklearn.preprocessing import LabelEncoder, StandardScaler"
   ],
   "id": "49d07dd739af0cea",
   "outputs": [],
   "execution_count": 1
  },
  {
   "cell_type": "code",
   "id": "initial_id",
   "metadata": {
    "collapsed": true,
    "ExecuteTime": {
     "end_time": "2024-12-10T07:39:30.808621Z",
     "start_time": "2024-12-10T07:39:30.681198Z"
    }
   },
   "source": [
    "df_3 = pd.read_csv('../lab2/dataset_phishing.csv').drop('url', axis=1)\n",
    "\n",
    "le = LabelEncoder()\n",
    "df_3['status'] = le.fit_transform(df_3['status'])\n",
    "\n",
    "x = df_3.drop('status', axis=1)\n",
    "y = df_3['status']\n",
    "\n",
    "x_train, x_test, y_train, y_test = train_test_split(x, y, test_size=0.2, random_state=0)\n",
    "\n",
    "scaler = StandardScaler()\n",
    "scaler.fit(x_train)\n",
    "\n",
    "scaled_x_train = scaler.transform(x_train)\n",
    "scaled_x_test = scaler.transform(x_test)"
   ],
   "outputs": [],
   "execution_count": 2
  },
  {
   "metadata": {},
   "cell_type": "markdown",
   "source": "## Ініціалізація алгоритму SVM",
   "id": "7800e69a66dd6270"
  },
  {
   "metadata": {
    "ExecuteTime": {
     "end_time": "2024-12-10T07:39:32.426766Z",
     "start_time": "2024-12-10T07:39:31.003081Z"
    }
   },
   "cell_type": "code",
   "source": [
    "from sklearn.svm import SVC\n",
    "svc_model = SVC()\n",
    "svc_model.fit(scaled_x_train, y_train)\n",
    "\n",
    "y_pred = svc_model.predict(scaled_x_test)\n",
    "\n",
    "print(f'Matrix:\\n{confusion_matrix(y_test, y_pred)}\\nClassification Report:\\n{classification_report(y_test, y_pred)}\\nAccuracy: {accuracy_score(y_test, y_pred)}')"
   ],
   "id": "d271ead927081d43",
   "outputs": [
    {
     "name": "stdout",
     "output_type": "stream",
     "text": [
      "Matrix:\n",
      "[[1114   41]\n",
      " [  43 1088]]\n",
      "Classification Report:\n",
      "              precision    recall  f1-score   support\n",
      "\n",
      "           0       0.96      0.96      0.96      1155\n",
      "           1       0.96      0.96      0.96      1131\n",
      "\n",
      "    accuracy                           0.96      2286\n",
      "   macro avg       0.96      0.96      0.96      2286\n",
      "weighted avg       0.96      0.96      0.96      2286\n",
      "\n",
      "Accuracy: 0.963254593175853\n"
     ]
    }
   ],
   "execution_count": 3
  },
  {
   "metadata": {
    "ExecuteTime": {
     "end_time": "2024-12-10T07:47:35.543656Z",
     "start_time": "2024-12-10T07:45:59.244817Z"
    }
   },
   "cell_type": "code",
   "source": [
    "from sklearn.model_selection import GridSearchCV\n",
    "\n",
    "param_grid = {'C': [1.0, 10, 100], 'gamma': ['scale', 0.1], 'kernel': ['rbf', 'poly', 'sigmoid']} \n",
    "grid = GridSearchCV(SVC(), param_grid)\n",
    "grid.fit(scaled_x_train, y_train)\n",
    "print(f'Best params: {grid.best_params_}')\n",
    "\n",
    "grid_predictions = grid.predict(scaled_x_test)\n",
    "\n",
    "print(f'Matrix:\\n{confusion_matrix(y_test, grid_predictions)}\\nClassification Report:\\n{classification_report(y_test, grid_predictions)}\\nAccuracy: {accuracy_score(y_test, grid_predictions)}')"
   ],
   "id": "c2ee0783393cfe54",
   "outputs": [
    {
     "name": "stdout",
     "output_type": "stream",
     "text": [
      "Best params: {'C': 10, 'gamma': 'scale', 'kernel': 'rbf'}\n",
      "Matrix:\n",
      "[[1117   38]\n",
      " [  40 1091]]\n",
      "Classification Report:\n",
      "              precision    recall  f1-score   support\n",
      "\n",
      "           0       0.97      0.97      0.97      1155\n",
      "           1       0.97      0.96      0.97      1131\n",
      "\n",
      "    accuracy                           0.97      2286\n",
      "   macro avg       0.97      0.97      0.97      2286\n",
      "weighted avg       0.97      0.97      0.97      2286\n",
      "\n",
      "Accuracy: 0.9658792650918635\n"
     ]
    }
   ],
   "execution_count": 10
  }
 ],
 "metadata": {
  "kernelspec": {
   "display_name": "Python 3",
   "language": "python",
   "name": "python3"
  },
  "language_info": {
   "codemirror_mode": {
    "name": "ipython",
    "version": 2
   },
   "file_extension": ".py",
   "mimetype": "text/x-python",
   "name": "python",
   "nbconvert_exporter": "python",
   "pygments_lexer": "ipython2",
   "version": "2.7.6"
  }
 },
 "nbformat": 4,
 "nbformat_minor": 5
}
