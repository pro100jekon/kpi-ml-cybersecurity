{
 "cells": [
  {
   "cell_type": "code",
   "id": "initial_id",
   "metadata": {
    "collapsed": true,
    "ExecuteTime": {
     "end_time": "2024-12-23T20:37:27.295095Z",
     "start_time": "2024-12-23T20:37:17.335909Z"
    }
   },
   "source": [
    "from keras.src.applications.resnet import ResNet50\n",
    "from keras.src.applications.resnet import preprocess_input\n",
    "from keras.src.utils.image_utils import img_to_array\n",
    "from keras.src.utils.image_utils import load_img\n",
    "from sklearn.model_selection import train_test_split\n",
    "import pandas as pd\n",
    "\n",
    "import numpy as np\n",
    "from pandas import Series\n",
    "\n",
    "# Load the ResNet50 model (without the top classification layer)\n",
    "model = ResNet50(weights=\"imagenet\", include_top=False, input_shape=(224, 224, 3))\n",
    "\n",
    "\n",
    "def extract_images(img_path: Series, prefix):\n",
    "    imgs = img_path.apply(lambda old: prefix + old)\\\n",
    "        .apply(lambda new: load_img(new, target_size=(224, 224)))\\\n",
    "        .apply(lambda img: img_to_array(img))\\\n",
    "        .apply(lambda img: preprocess_input(img))\n",
    "    return imgs\n",
    "\n",
    "\n",
    "df_train = pd.read_csv('Training_set.csv') # https://www.kaggle.com/datasets/phucthaiv02/butterfly-image-classification\n",
    "\n",
    "labels = df_train[['label']]\n",
    "df_train = df_train.drop(['label'], axis=1)\n",
    "feats_train = extract_images(df_train['filename'], './train/')"
   ],
   "outputs": [
    {
     "name": "stderr",
     "output_type": "stream",
     "text": [
      "2024-12-23 22:37:18.048018: E external/local_xla/xla/stream_executor/cuda/cuda_fft.cc:477] Unable to register cuFFT factory: Attempting to register factory for plugin cuFFT when one has already been registered\n",
      "WARNING: All log messages before absl::InitializeLog() is called are written to STDERR\n",
      "E0000 00:00:1734986238.118189  139477 cuda_dnn.cc:8310] Unable to register cuDNN factory: Attempting to register factory for plugin cuDNN when one has already been registered\n",
      "E0000 00:00:1734986238.139372  139477 cuda_blas.cc:1418] Unable to register cuBLAS factory: Attempting to register factory for plugin cuBLAS when one has already been registered\n",
      "2024-12-23 22:37:18.314433: I tensorflow/core/platform/cpu_feature_guard.cc:210] This TensorFlow binary is optimized to use available CPU instructions in performance-critical operations.\n",
      "To enable the following instructions: AVX2 FMA, in other operations, rebuild TensorFlow with the appropriate compiler flags.\n",
      "I0000 00:00:1734986242.608647  139477 gpu_device.cc:2022] Created device /job:localhost/replica:0/task:0/device:GPU:0 with 5558 MB memory:  -> device: 0, name: NVIDIA GeForce RTX 3070 Ti, pci bus id: 0000:2d:00.0, compute capability: 8.6\n"
     ]
    }
   ],
   "execution_count": 1
  },
  {
   "metadata": {
    "ExecuteTime": {
     "end_time": "2024-12-23T20:37:36.719248Z",
     "start_time": "2024-12-23T20:37:27.299988Z"
    }
   },
   "cell_type": "code",
   "source": [
    "batch_train = np.stack(feats_train.to_list())\n",
    "\n",
    "# Split the batch into smaller batches\n",
    "def process_in_batches(b, batch_size=16):\n",
    "    # Split the large batch into smaller ones\n",
    "    num_batches = len(b) // batch_size + (1 if len(b) % batch_size != 0 else 0)\n",
    "    for i in range(num_batches):\n",
    "        # Get the slice for the current batch\n",
    "        yield b[i * batch_size:(i + 1) * batch_size]\n",
    "\n",
    "features_train = []\n",
    "for smaller_batch in process_in_batches(batch_train, batch_size=64):\n",
    "    features_train.append(model.predict(smaller_batch, verbose=0))\n",
    "\n",
    "features_train = np.concatenate(features_train)\n",
    "train_flattened = features_train.reshape(features_train.shape[0], -1)"
   ],
   "id": "27d8cf553b13f9b9",
   "outputs": [
    {
     "name": "stderr",
     "output_type": "stream",
     "text": [
      "WARNING: All log messages before absl::InitializeLog() is called are written to STDERR\n",
      "I0000 00:00:1734986248.814154  139594 service.cc:148] XLA service 0x7f70700015c0 initialized for platform CUDA (this does not guarantee that XLA will be used). Devices:\n",
      "I0000 00:00:1734986248.814442  139594 service.cc:156]   StreamExecutor device (0): NVIDIA GeForce RTX 3070 Ti, Compute Capability 8.6\n",
      "2024-12-23 22:37:28.871500: I tensorflow/compiler/mlir/tensorflow/utils/dump_mlir_util.cc:268] disabling MLIR crash reproducer, set env var `MLIR_CRASH_REPRODUCER_DIRECTORY` to enable.\n",
      "I0000 00:00:1734986249.180454  139594 cuda_dnn.cc:529] Loaded cuDNN version 90300\n",
      "I0000 00:00:1734986251.682016  139594 device_compiler.h:188] Compiled cluster using XLA!  This line is logged at most once for the lifetime of the process.\n"
     ]
    }
   ],
   "execution_count": 2
  },
  {
   "metadata": {
    "ExecuteTime": {
     "end_time": "2024-12-23T20:46:59.055197Z",
     "start_time": "2024-12-23T20:37:36.855496Z"
    }
   },
   "cell_type": "code",
   "source": [
    "from datasketch import MinHashLSH, MinHash\n",
    "k = 128\n",
    "counter = 0\n",
    "def create_minhash_features(fs):\n",
    "    minhash_features = []\n",
    "    for vector in fs:\n",
    "        global counter\n",
    "        counter += 1\n",
    "        if counter % 100 == 0:\n",
    "            print(counter)\n",
    "        m = MinHash(num_perm=k)\n",
    "        for val in vector:\n",
    "            m.update(str(val).encode('utf8'))\n",
    "        minhash_features.append(m)\n",
    "    return minhash_features\n",
    "\n",
    "# Створюємо MinHash для train набору\n",
    "train_minhashes = create_minhash_features(train_flattened)"
   ],
   "id": "e2f8b04b3532ed07",
   "outputs": [
    {
     "name": "stdout",
     "output_type": "stream",
     "text": [
      "100\n",
      "200\n",
      "300\n",
      "400\n",
      "500\n",
      "600\n",
      "700\n",
      "800\n",
      "900\n",
      "1000\n"
     ]
    }
   ],
   "execution_count": 3
  },
  {
   "metadata": {
    "ExecuteTime": {
     "end_time": "2024-12-23T20:46:59.259342Z",
     "start_time": "2024-12-23T20:46:59.092505Z"
    }
   },
   "cell_type": "code",
   "source": [
    "hashes_train, hashes_test, labels_train, labels_test, features_train, features_test = train_test_split(train_minhashes, labels, train_flattened, test_size=0.2, random_state=420)\n",
    "\n",
    "lsh = MinHashLSH(threshold=0.1, num_perm=k)\n",
    "\n",
    "for i, minhash in enumerate(hashes_train):\n",
    "    lsh.insert(f'img_{i}', minhash)\n",
    "\n",
    "correct_pred = 0\n",
    "for i, minhash in enumerate(hashes_test):\n",
    "    res = lsh.query(minhash)\n",
    "    if res:\n",
    "        closest = res[0].split('_')[1]\n",
    "        predicted_label = labels_train['label'].values[int(closest)]\n",
    "        global correct_pred\n",
    "        if predicted_label == labels_test['label'].values[i]:\n",
    "            correct_pred += 1\n",
    "print(f'Accuracy: {round(100 * correct_pred / len(hashes_test), 2):.2f}%')"
   ],
   "id": "9f61b0ac44f3fc79",
   "outputs": [
    {
     "name": "stdout",
     "output_type": "stream",
     "text": [
      "Accuracy: 0.00%\n"
     ]
    }
   ],
   "execution_count": 4
  },
  {
   "metadata": {
    "ExecuteTime": {
     "end_time": "2024-12-23T20:47:00.581732Z",
     "start_time": "2024-12-23T20:46:59.271671Z"
    }
   },
   "cell_type": "code",
   "source": [
    "from sklearn.neighbors import KNeighborsClassifier\n",
    "\n",
    "knn = KNeighborsClassifier(n_neighbors=5)\n",
    "knn.fit(features_train, labels_train)\n",
    "accuracy_knn = knn.score(features_test, labels_test)\n",
    "print(f'KNN Accuracy: {accuracy_knn * 100:.2f}%')"
   ],
   "id": "1ccdf1e7d1a06a59",
   "outputs": [
    {
     "name": "stderr",
     "output_type": "stream",
     "text": [
      "/home/yevhenii/.local/lib/python3.10/site-packages/sklearn/neighbors/_classification.py:239: DataConversionWarning: A column-vector y was passed when a 1d array was expected. Please change the shape of y to (n_samples,), for example using ravel().\n",
      "  return self._fit(X, y)\n"
     ]
    },
    {
     "name": "stdout",
     "output_type": "stream",
     "text": [
      "KNN Accuracy: 35.50%\n"
     ]
    }
   ],
   "execution_count": 5
  },
  {
   "metadata": {},
   "cell_type": "markdown",
   "source": [
    "## Висновок\n",
    "### Даний датасет не є підходящим для звичайної \"простої\" класифікації, як от вирізнення метеликів від велосипедів. Датасет містить в собі 6499 зображень метеликів, і задача - розрізнити якийсь підвид метеликів. Якщо алгоритму LSH згодувати весь датасет (всі 6499 розмічених зображень), то точність буде 1.5%, що все ще є дуже низьким показником. LSH не має застосовуватись у класифікації таких деталізованих ознак, як підвид метелика, адже призначення LSH - оптимізація пошуку, виконуючи \"згладжування ознак\"."
   ],
   "id": "b21a24fffbe118e1"
  }
 ],
 "metadata": {
  "kernelspec": {
   "display_name": "Python 3",
   "language": "python",
   "name": "python3"
  },
  "language_info": {
   "codemirror_mode": {
    "name": "ipython",
    "version": 2
   },
   "file_extension": ".py",
   "mimetype": "text/x-python",
   "name": "python",
   "nbconvert_exporter": "python",
   "pygments_lexer": "ipython2",
   "version": "2.7.6"
  }
 },
 "nbformat": 4,
 "nbformat_minor": 5
}
